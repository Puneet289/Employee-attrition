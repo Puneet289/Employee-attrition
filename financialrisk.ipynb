{
  "nbformat": 4,
  "nbformat_minor": 0,
  "metadata": {
    "colab": {
      "name": "financialrisk.ipynb",
      "provenance": [],
      "mount_file_id": "1lNErL_ejAyDGut_nyeBAJYogEfgNX5xy",
      "authorship_tag": "ABX9TyMbG4z5wAEeDUoxXAo6oZFE",
      "include_colab_link": true
    },
    "kernelspec": {
      "name": "python3",
      "display_name": "Python 3"
    }
  },
  "cells": [
    {
      "cell_type": "markdown",
      "metadata": {
        "id": "view-in-github",
        "colab_type": "text"
      },
      "source": [
        "<a href=\"https://colab.research.google.com/github/Puneet289/Employee-attrition/blob/master/financialrisk.ipynb\" target=\"_parent\"><img src=\"https://colab.research.google.com/assets/colab-badge.svg\" alt=\"Open In Colab\"/></a>"
      ]
    },
    {
      "cell_type": "code",
      "metadata": {
        "id": "nt2KTGV0Noym",
        "colab_type": "code",
        "colab": {}
      },
      "source": [
        "import pandas as pd\n",
        "import numpy as np\n",
        "import matplotlib.pyplot as plt"
      ],
      "execution_count": null,
      "outputs": []
    },
    {
      "cell_type": "code",
      "metadata": {
        "id": "YETla_RSNzL5",
        "colab_type": "code",
        "colab": {}
      },
      "source": [
        "train=pd.read_csv('/content/drive/My Drive/Datasets/Financial_Risk_Participants_Data/Train.csv')"
      ],
      "execution_count": null,
      "outputs": []
    },
    {
      "cell_type": "code",
      "metadata": {
        "id": "s_MqbQz6OFH_",
        "colab_type": "code",
        "colab": {}
      },
      "source": [
        "test=pd.read_csv('/content/drive/My Drive/Datasets/Financial_Risk_Participants_Data/Test.csv')"
      ],
      "execution_count": null,
      "outputs": []
    },
    {
      "cell_type": "code",
      "metadata": {
        "id": "C6awVuGCOMP7",
        "colab_type": "code",
        "colab": {
          "base_uri": "https://localhost:8080/",
          "height": 195
        },
        "outputId": "b79f2459-62f4-4f72-db0b-270052ad9200"
      },
      "source": [
        "train.head()"
      ],
      "execution_count": null,
      "outputs": [
        {
          "output_type": "execute_result",
          "data": {
            "text/html": [
              "<div>\n",
              "<style scoped>\n",
              "    .dataframe tbody tr th:only-of-type {\n",
              "        vertical-align: middle;\n",
              "    }\n",
              "\n",
              "    .dataframe tbody tr th {\n",
              "        vertical-align: top;\n",
              "    }\n",
              "\n",
              "    .dataframe thead th {\n",
              "        text-align: right;\n",
              "    }\n",
              "</style>\n",
              "<table border=\"1\" class=\"dataframe\">\n",
              "  <thead>\n",
              "    <tr style=\"text-align: right;\">\n",
              "      <th></th>\n",
              "      <th>City</th>\n",
              "      <th>Location_Score</th>\n",
              "      <th>Internal_Audit_Score</th>\n",
              "      <th>External_Audit_Score</th>\n",
              "      <th>Fin_Score</th>\n",
              "      <th>Loss_score</th>\n",
              "      <th>Past_Results</th>\n",
              "      <th>IsUnderRisk</th>\n",
              "    </tr>\n",
              "  </thead>\n",
              "  <tbody>\n",
              "    <tr>\n",
              "      <th>0</th>\n",
              "      <td>2</td>\n",
              "      <td>8.032</td>\n",
              "      <td>14</td>\n",
              "      <td>8</td>\n",
              "      <td>3</td>\n",
              "      <td>6</td>\n",
              "      <td>0</td>\n",
              "      <td>1</td>\n",
              "    </tr>\n",
              "    <tr>\n",
              "      <th>1</th>\n",
              "      <td>31</td>\n",
              "      <td>77.730</td>\n",
              "      <td>8</td>\n",
              "      <td>3</td>\n",
              "      <td>3</td>\n",
              "      <td>8</td>\n",
              "      <td>1</td>\n",
              "      <td>0</td>\n",
              "    </tr>\n",
              "    <tr>\n",
              "      <th>2</th>\n",
              "      <td>40</td>\n",
              "      <td>59.203</td>\n",
              "      <td>3</td>\n",
              "      <td>12</td>\n",
              "      <td>11</td>\n",
              "      <td>3</td>\n",
              "      <td>0</td>\n",
              "      <td>1</td>\n",
              "    </tr>\n",
              "    <tr>\n",
              "      <th>3</th>\n",
              "      <td>12</td>\n",
              "      <td>73.080</td>\n",
              "      <td>4</td>\n",
              "      <td>5</td>\n",
              "      <td>7</td>\n",
              "      <td>6</td>\n",
              "      <td>0</td>\n",
              "      <td>0</td>\n",
              "    </tr>\n",
              "    <tr>\n",
              "      <th>4</th>\n",
              "      <td>4</td>\n",
              "      <td>15.666</td>\n",
              "      <td>13</td>\n",
              "      <td>15</td>\n",
              "      <td>6</td>\n",
              "      <td>7</td>\n",
              "      <td>2</td>\n",
              "      <td>1</td>\n",
              "    </tr>\n",
              "  </tbody>\n",
              "</table>\n",
              "</div>"
            ],
            "text/plain": [
              "   City  Location_Score  ...  Past_Results  IsUnderRisk\n",
              "0     2           8.032  ...             0            1\n",
              "1    31          77.730  ...             1            0\n",
              "2    40          59.203  ...             0            1\n",
              "3    12          73.080  ...             0            0\n",
              "4     4          15.666  ...             2            1\n",
              "\n",
              "[5 rows x 8 columns]"
            ]
          },
          "metadata": {
            "tags": []
          },
          "execution_count": 4
        }
      ]
    },
    {
      "cell_type": "code",
      "metadata": {
        "id": "9z3qzWIIOOMw",
        "colab_type": "code",
        "colab": {
          "base_uri": "https://localhost:8080/",
          "height": 195
        },
        "outputId": "e024c188-b58b-403e-f262-320e113c8657"
      },
      "source": [
        "test.head()"
      ],
      "execution_count": null,
      "outputs": [
        {
          "output_type": "execute_result",
          "data": {
            "text/html": [
              "<div>\n",
              "<style scoped>\n",
              "    .dataframe tbody tr th:only-of-type {\n",
              "        vertical-align: middle;\n",
              "    }\n",
              "\n",
              "    .dataframe tbody tr th {\n",
              "        vertical-align: top;\n",
              "    }\n",
              "\n",
              "    .dataframe thead th {\n",
              "        text-align: right;\n",
              "    }\n",
              "</style>\n",
              "<table border=\"1\" class=\"dataframe\">\n",
              "  <thead>\n",
              "    <tr style=\"text-align: right;\">\n",
              "      <th></th>\n",
              "      <th>City</th>\n",
              "      <th>Location_Score</th>\n",
              "      <th>Internal_Audit_Score</th>\n",
              "      <th>External_Audit_Score</th>\n",
              "      <th>Fin_Score</th>\n",
              "      <th>Loss_score</th>\n",
              "      <th>Past_Results</th>\n",
              "    </tr>\n",
              "  </thead>\n",
              "  <tbody>\n",
              "    <tr>\n",
              "      <th>0</th>\n",
              "      <td>41</td>\n",
              "      <td>18.272</td>\n",
              "      <td>13</td>\n",
              "      <td>12</td>\n",
              "      <td>9</td>\n",
              "      <td>7</td>\n",
              "      <td>0</td>\n",
              "    </tr>\n",
              "    <tr>\n",
              "      <th>1</th>\n",
              "      <td>17</td>\n",
              "      <td>64.799</td>\n",
              "      <td>6</td>\n",
              "      <td>10</td>\n",
              "      <td>7</td>\n",
              "      <td>4</td>\n",
              "      <td>1</td>\n",
              "    </tr>\n",
              "    <tr>\n",
              "      <th>2</th>\n",
              "      <td>31</td>\n",
              "      <td>68.890</td>\n",
              "      <td>3</td>\n",
              "      <td>3</td>\n",
              "      <td>7</td>\n",
              "      <td>8</td>\n",
              "      <td>0</td>\n",
              "    </tr>\n",
              "    <tr>\n",
              "      <th>3</th>\n",
              "      <td>3</td>\n",
              "      <td>16.492</td>\n",
              "      <td>15</td>\n",
              "      <td>10</td>\n",
              "      <td>7</td>\n",
              "      <td>4</td>\n",
              "      <td>1</td>\n",
              "    </tr>\n",
              "    <tr>\n",
              "      <th>4</th>\n",
              "      <td>9</td>\n",
              "      <td>17.178</td>\n",
              "      <td>7</td>\n",
              "      <td>3</td>\n",
              "      <td>8</td>\n",
              "      <td>3</td>\n",
              "      <td>1</td>\n",
              "    </tr>\n",
              "  </tbody>\n",
              "</table>\n",
              "</div>"
            ],
            "text/plain": [
              "   City  Location_Score  ...  Loss_score  Past_Results\n",
              "0    41          18.272  ...           7             0\n",
              "1    17          64.799  ...           4             1\n",
              "2    31          68.890  ...           8             0\n",
              "3     3          16.492  ...           4             1\n",
              "4     9          17.178  ...           3             1\n",
              "\n",
              "[5 rows x 7 columns]"
            ]
          },
          "metadata": {
            "tags": []
          },
          "execution_count": 5
        }
      ]
    },
    {
      "cell_type": "code",
      "metadata": {
        "id": "IABLAFBBOXMI",
        "colab_type": "code",
        "colab": {
          "base_uri": "https://localhost:8080/",
          "height": 269
        },
        "outputId": "0c1bcc92-9147-466b-9cfe-645d2ec4f45b"
      },
      "source": [
        "train.info()"
      ],
      "execution_count": null,
      "outputs": [
        {
          "output_type": "stream",
          "text": [
            "<class 'pandas.core.frame.DataFrame'>\n",
            "RangeIndex: 543 entries, 0 to 542\n",
            "Data columns (total 8 columns):\n",
            " #   Column                Non-Null Count  Dtype  \n",
            "---  ------                --------------  -----  \n",
            " 0   City                  543 non-null    int64  \n",
            " 1   Location_Score        543 non-null    float64\n",
            " 2   Internal_Audit_Score  543 non-null    int64  \n",
            " 3   External_Audit_Score  543 non-null    int64  \n",
            " 4   Fin_Score             543 non-null    int64  \n",
            " 5   Loss_score            543 non-null    int64  \n",
            " 6   Past_Results          543 non-null    int64  \n",
            " 7   IsUnderRisk           543 non-null    int64  \n",
            "dtypes: float64(1), int64(7)\n",
            "memory usage: 34.1 KB\n"
          ],
          "name": "stdout"
        }
      ]
    },
    {
      "cell_type": "code",
      "metadata": {
        "id": "xu_ouKy8OY-w",
        "colab_type": "code",
        "colab": {
          "base_uri": "https://localhost:8080/",
          "height": 284
        },
        "outputId": "1f44a22c-133d-4629-c5fd-aab2801f7dd1"
      },
      "source": [
        "train.describe()"
      ],
      "execution_count": null,
      "outputs": [
        {
          "output_type": "execute_result",
          "data": {
            "text/html": [
              "<div>\n",
              "<style scoped>\n",
              "    .dataframe tbody tr th:only-of-type {\n",
              "        vertical-align: middle;\n",
              "    }\n",
              "\n",
              "    .dataframe tbody tr th {\n",
              "        vertical-align: top;\n",
              "    }\n",
              "\n",
              "    .dataframe thead th {\n",
              "        text-align: right;\n",
              "    }\n",
              "</style>\n",
              "<table border=\"1\" class=\"dataframe\">\n",
              "  <thead>\n",
              "    <tr style=\"text-align: right;\">\n",
              "      <th></th>\n",
              "      <th>City</th>\n",
              "      <th>Location_Score</th>\n",
              "      <th>Internal_Audit_Score</th>\n",
              "      <th>External_Audit_Score</th>\n",
              "      <th>Fin_Score</th>\n",
              "      <th>Loss_score</th>\n",
              "      <th>Past_Results</th>\n",
              "      <th>IsUnderRisk</th>\n",
              "    </tr>\n",
              "  </thead>\n",
              "  <tbody>\n",
              "    <tr>\n",
              "      <th>count</th>\n",
              "      <td>543.000000</td>\n",
              "      <td>543.000000</td>\n",
              "      <td>543.000000</td>\n",
              "      <td>543.000000</td>\n",
              "      <td>543.000000</td>\n",
              "      <td>543.000000</td>\n",
              "      <td>543.000000</td>\n",
              "      <td>543.000000</td>\n",
              "    </tr>\n",
              "    <tr>\n",
              "      <th>mean</th>\n",
              "      <td>19.576427</td>\n",
              "      <td>32.259346</td>\n",
              "      <td>8.189687</td>\n",
              "      <td>7.327808</td>\n",
              "      <td>7.046041</td>\n",
              "      <td>5.530387</td>\n",
              "      <td>0.613260</td>\n",
              "      <td>0.626151</td>\n",
              "    </tr>\n",
              "    <tr>\n",
              "      <th>std</th>\n",
              "      <td>14.722687</td>\n",
              "      <td>24.887291</td>\n",
              "      <td>3.312022</td>\n",
              "      <td>3.450667</td>\n",
              "      <td>3.156978</td>\n",
              "      <td>1.839124</td>\n",
              "      <td>0.764509</td>\n",
              "      <td>0.484270</td>\n",
              "    </tr>\n",
              "    <tr>\n",
              "      <th>min</th>\n",
              "      <td>0.000000</td>\n",
              "      <td>5.185000</td>\n",
              "      <td>3.000000</td>\n",
              "      <td>3.000000</td>\n",
              "      <td>3.000000</td>\n",
              "      <td>3.000000</td>\n",
              "      <td>0.000000</td>\n",
              "      <td>0.000000</td>\n",
              "    </tr>\n",
              "    <tr>\n",
              "      <th>25%</th>\n",
              "      <td>6.000000</td>\n",
              "      <td>13.565000</td>\n",
              "      <td>6.000000</td>\n",
              "      <td>5.000000</td>\n",
              "      <td>5.000000</td>\n",
              "      <td>4.000000</td>\n",
              "      <td>0.000000</td>\n",
              "      <td>0.000000</td>\n",
              "    </tr>\n",
              "    <tr>\n",
              "      <th>50%</th>\n",
              "      <td>14.000000</td>\n",
              "      <td>19.803000</td>\n",
              "      <td>8.000000</td>\n",
              "      <td>7.000000</td>\n",
              "      <td>7.000000</td>\n",
              "      <td>6.000000</td>\n",
              "      <td>1.000000</td>\n",
              "      <td>1.000000</td>\n",
              "    </tr>\n",
              "    <tr>\n",
              "      <th>75%</th>\n",
              "      <td>37.000000</td>\n",
              "      <td>62.594000</td>\n",
              "      <td>11.000000</td>\n",
              "      <td>10.000000</td>\n",
              "      <td>8.000000</td>\n",
              "      <td>7.000000</td>\n",
              "      <td>1.000000</td>\n",
              "      <td>1.000000</td>\n",
              "    </tr>\n",
              "    <tr>\n",
              "      <th>max</th>\n",
              "      <td>44.000000</td>\n",
              "      <td>80.809000</td>\n",
              "      <td>15.000000</td>\n",
              "      <td>15.000000</td>\n",
              "      <td>15.000000</td>\n",
              "      <td>13.000000</td>\n",
              "      <td>10.000000</td>\n",
              "      <td>1.000000</td>\n",
              "    </tr>\n",
              "  </tbody>\n",
              "</table>\n",
              "</div>"
            ],
            "text/plain": [
              "             City  Location_Score  ...  Past_Results  IsUnderRisk\n",
              "count  543.000000      543.000000  ...    543.000000   543.000000\n",
              "mean    19.576427       32.259346  ...      0.613260     0.626151\n",
              "std     14.722687       24.887291  ...      0.764509     0.484270\n",
              "min      0.000000        5.185000  ...      0.000000     0.000000\n",
              "25%      6.000000       13.565000  ...      0.000000     0.000000\n",
              "50%     14.000000       19.803000  ...      1.000000     1.000000\n",
              "75%     37.000000       62.594000  ...      1.000000     1.000000\n",
              "max     44.000000       80.809000  ...     10.000000     1.000000\n",
              "\n",
              "[8 rows x 8 columns]"
            ]
          },
          "metadata": {
            "tags": []
          },
          "execution_count": 7
        }
      ]
    },
    {
      "cell_type": "code",
      "metadata": {
        "id": "PUyE4L90Od26",
        "colab_type": "code",
        "colab": {
          "base_uri": "https://localhost:8080/",
          "height": 284
        },
        "outputId": "d3fdb5c2-b330-404b-9571-7aeeab60aa8e"
      },
      "source": [
        "train.corr()"
      ],
      "execution_count": null,
      "outputs": [
        {
          "output_type": "execute_result",
          "data": {
            "text/html": [
              "<div>\n",
              "<style scoped>\n",
              "    .dataframe tbody tr th:only-of-type {\n",
              "        vertical-align: middle;\n",
              "    }\n",
              "\n",
              "    .dataframe tbody tr th {\n",
              "        vertical-align: top;\n",
              "    }\n",
              "\n",
              "    .dataframe thead th {\n",
              "        text-align: right;\n",
              "    }\n",
              "</style>\n",
              "<table border=\"1\" class=\"dataframe\">\n",
              "  <thead>\n",
              "    <tr style=\"text-align: right;\">\n",
              "      <th></th>\n",
              "      <th>City</th>\n",
              "      <th>Location_Score</th>\n",
              "      <th>Internal_Audit_Score</th>\n",
              "      <th>External_Audit_Score</th>\n",
              "      <th>Fin_Score</th>\n",
              "      <th>Loss_score</th>\n",
              "      <th>Past_Results</th>\n",
              "      <th>IsUnderRisk</th>\n",
              "    </tr>\n",
              "  </thead>\n",
              "  <tbody>\n",
              "    <tr>\n",
              "      <th>City</th>\n",
              "      <td>1.000000</td>\n",
              "      <td>0.012551</td>\n",
              "      <td>-0.024306</td>\n",
              "      <td>-0.049994</td>\n",
              "      <td>-0.051779</td>\n",
              "      <td>0.033183</td>\n",
              "      <td>0.004762</td>\n",
              "      <td>-0.087463</td>\n",
              "    </tr>\n",
              "    <tr>\n",
              "      <th>Location_Score</th>\n",
              "      <td>0.012551</td>\n",
              "      <td>1.000000</td>\n",
              "      <td>-0.358629</td>\n",
              "      <td>-0.205775</td>\n",
              "      <td>-0.264536</td>\n",
              "      <td>-0.042139</td>\n",
              "      <td>-0.074364</td>\n",
              "      <td>-0.423956</td>\n",
              "    </tr>\n",
              "    <tr>\n",
              "      <th>Internal_Audit_Score</th>\n",
              "      <td>-0.024306</td>\n",
              "      <td>-0.358629</td>\n",
              "      <td>1.000000</td>\n",
              "      <td>0.453839</td>\n",
              "      <td>0.365133</td>\n",
              "      <td>0.007685</td>\n",
              "      <td>0.112093</td>\n",
              "      <td>0.586097</td>\n",
              "    </tr>\n",
              "    <tr>\n",
              "      <th>External_Audit_Score</th>\n",
              "      <td>-0.049994</td>\n",
              "      <td>-0.205775</td>\n",
              "      <td>0.453839</td>\n",
              "      <td>1.000000</td>\n",
              "      <td>0.433374</td>\n",
              "      <td>-0.038786</td>\n",
              "      <td>0.141163</td>\n",
              "      <td>0.435619</td>\n",
              "    </tr>\n",
              "    <tr>\n",
              "      <th>Fin_Score</th>\n",
              "      <td>-0.051779</td>\n",
              "      <td>-0.264536</td>\n",
              "      <td>0.365133</td>\n",
              "      <td>0.433374</td>\n",
              "      <td>1.000000</td>\n",
              "      <td>-0.078573</td>\n",
              "      <td>0.138111</td>\n",
              "      <td>0.362463</td>\n",
              "    </tr>\n",
              "    <tr>\n",
              "      <th>Loss_score</th>\n",
              "      <td>0.033183</td>\n",
              "      <td>-0.042139</td>\n",
              "      <td>0.007685</td>\n",
              "      <td>-0.038786</td>\n",
              "      <td>-0.078573</td>\n",
              "      <td>1.000000</td>\n",
              "      <td>0.081858</td>\n",
              "      <td>0.044888</td>\n",
              "    </tr>\n",
              "    <tr>\n",
              "      <th>Past_Results</th>\n",
              "      <td>0.004762</td>\n",
              "      <td>-0.074364</td>\n",
              "      <td>0.112093</td>\n",
              "      <td>0.141163</td>\n",
              "      <td>0.138111</td>\n",
              "      <td>0.081858</td>\n",
              "      <td>1.000000</td>\n",
              "      <td>0.102120</td>\n",
              "    </tr>\n",
              "    <tr>\n",
              "      <th>IsUnderRisk</th>\n",
              "      <td>-0.087463</td>\n",
              "      <td>-0.423956</td>\n",
              "      <td>0.586097</td>\n",
              "      <td>0.435619</td>\n",
              "      <td>0.362463</td>\n",
              "      <td>0.044888</td>\n",
              "      <td>0.102120</td>\n",
              "      <td>1.000000</td>\n",
              "    </tr>\n",
              "  </tbody>\n",
              "</table>\n",
              "</div>"
            ],
            "text/plain": [
              "                          City  Location_Score  ...  Past_Results  IsUnderRisk\n",
              "City                  1.000000        0.012551  ...      0.004762    -0.087463\n",
              "Location_Score        0.012551        1.000000  ...     -0.074364    -0.423956\n",
              "Internal_Audit_Score -0.024306       -0.358629  ...      0.112093     0.586097\n",
              "External_Audit_Score -0.049994       -0.205775  ...      0.141163     0.435619\n",
              "Fin_Score            -0.051779       -0.264536  ...      0.138111     0.362463\n",
              "Loss_score            0.033183       -0.042139  ...      0.081858     0.044888\n",
              "Past_Results          0.004762       -0.074364  ...      1.000000     0.102120\n",
              "IsUnderRisk          -0.087463       -0.423956  ...      0.102120     1.000000\n",
              "\n",
              "[8 rows x 8 columns]"
            ]
          },
          "metadata": {
            "tags": []
          },
          "execution_count": 8
        }
      ]
    },
    {
      "cell_type": "code",
      "metadata": {
        "id": "4PxLxlT9PTAP",
        "colab_type": "code",
        "colab": {
          "base_uri": "https://localhost:8080/",
          "height": 168
        },
        "outputId": "c585126a-8734-4f8d-991f-938090ab8dab"
      },
      "source": [
        "train.corr()['IsUnderRisk'].sort_values()"
      ],
      "execution_count": null,
      "outputs": [
        {
          "output_type": "execute_result",
          "data": {
            "text/plain": [
              "Location_Score         -0.423956\n",
              "City                   -0.087463\n",
              "Loss_score              0.044888\n",
              "Past_Results            0.102120\n",
              "Fin_Score               0.362463\n",
              "External_Audit_Score    0.435619\n",
              "Internal_Audit_Score    0.586097\n",
              "IsUnderRisk             1.000000\n",
              "Name: IsUnderRisk, dtype: float64"
            ]
          },
          "metadata": {
            "tags": []
          },
          "execution_count": 9
        }
      ]
    },
    {
      "cell_type": "code",
      "metadata": {
        "id": "46AW-rZyOmBT",
        "colab_type": "code",
        "colab": {}
      },
      "source": [
        "X=train.drop('IsUnderRisk',axis=1)\n",
        "y=train['IsUnderRisk']"
      ],
      "execution_count": null,
      "outputs": []
    },
    {
      "cell_type": "code",
      "metadata": {
        "id": "LCI7mLvYPqDP",
        "colab_type": "code",
        "colab": {}
      },
      "source": [
        "from sklearn.model_selection import train_test_split"
      ],
      "execution_count": null,
      "outputs": []
    },
    {
      "cell_type": "code",
      "metadata": {
        "id": "ECVZqMn_Px7z",
        "colab_type": "code",
        "colab": {}
      },
      "source": [
        "X_train,X_test,y_train,y_test=train_test_split(X,y,test_size=0.3,random_state=101)"
      ],
      "execution_count": null,
      "outputs": []
    },
    {
      "cell_type": "markdown",
      "metadata": {
        "id": "_iRGIEJhQN0y",
        "colab_type": "text"
      },
      "source": [
        "#IMPORTS"
      ]
    },
    {
      "cell_type": "code",
      "metadata": {
        "id": "2fPBl1CcP99N",
        "colab_type": "code",
        "colab": {}
      },
      "source": [
        "from sklearn.linear_model import LogisticRegression"
      ],
      "execution_count": null,
      "outputs": []
    },
    {
      "cell_type": "code",
      "metadata": {
        "id": "Y_2DNc1eQ_D9",
        "colab_type": "code",
        "colab": {}
      },
      "source": [
        "from sklearn.metrics import log_loss"
      ],
      "execution_count": null,
      "outputs": []
    },
    {
      "cell_type": "code",
      "metadata": {
        "id": "Ui4opG1IaPCD",
        "colab_type": "code",
        "colab": {}
      },
      "source": [
        "from sklearn.model_selection import RandomizedSearchCV"
      ],
      "execution_count": null,
      "outputs": []
    },
    {
      "cell_type": "code",
      "metadata": {
        "id": "P7-9IAUUcLGK",
        "colab_type": "code",
        "colab": {}
      },
      "source": [
        "from sklearn.tree import DecisionTreeClassifier"
      ],
      "execution_count": null,
      "outputs": []
    },
    {
      "cell_type": "code",
      "metadata": {
        "id": "v2U0B9ssdK4M",
        "colab_type": "code",
        "colab": {}
      },
      "source": [
        "from sklearn.ensemble import RandomForestClassifier,AdaBoostClassifier,BaggingClassifier\n",
        "import xgboost as xg"
      ],
      "execution_count": null,
      "outputs": []
    },
    {
      "cell_type": "markdown",
      "metadata": {
        "id": "P-ZIasw5QP1I",
        "colab_type": "text"
      },
      "source": [
        "#LOGISTIC REGRESSION"
      ]
    },
    {
      "cell_type": "code",
      "metadata": {
        "id": "sLYw1wh9QMTh",
        "colab_type": "code",
        "colab": {}
      },
      "source": [
        "log=LogisticRegression()"
      ],
      "execution_count": null,
      "outputs": []
    },
    {
      "cell_type": "code",
      "metadata": {
        "id": "-vyXvK4tb3FN",
        "colab_type": "code",
        "colab": {
          "base_uri": "https://localhost:8080/",
          "height": 101
        },
        "outputId": "0b011e96-ae7c-4f62-84b6-1d57fa2973c1"
      },
      "source": [
        "log.fit(X_train,y_train)"
      ],
      "execution_count": null,
      "outputs": [
        {
          "output_type": "execute_result",
          "data": {
            "text/plain": [
              "LogisticRegression(C=1.0, class_weight=None, dual=False, fit_intercept=True,\n",
              "                   intercept_scaling=1, l1_ratio=None, max_iter=100,\n",
              "                   multi_class='auto', n_jobs=None, penalty='l2',\n",
              "                   random_state=None, solver='lbfgs', tol=0.0001, verbose=0,\n",
              "                   warm_start=False)"
            ]
          },
          "metadata": {
            "tags": []
          },
          "execution_count": 58
        }
      ]
    },
    {
      "cell_type": "code",
      "metadata": {
        "id": "Qj-0qFjlRgXX",
        "colab_type": "code",
        "colab": {}
      },
      "source": [
        "pred1=log.predict_proba(X_test)"
      ],
      "execution_count": null,
      "outputs": []
    },
    {
      "cell_type": "code",
      "metadata": {
        "id": "sv9hC68fRljF",
        "colab_type": "code",
        "colab": {
          "base_uri": "https://localhost:8080/",
          "height": 34
        },
        "outputId": "cc54e4ed-13ae-4cbe-8dd0-f2e1f1517c08"
      },
      "source": [
        "print(log_loss(y_test,pred1))"
      ],
      "execution_count": null,
      "outputs": [
        {
          "output_type": "stream",
          "text": [
            "0.34671255098216414\n"
          ],
          "name": "stdout"
        }
      ]
    },
    {
      "cell_type": "markdown",
      "metadata": {
        "id": "MtZ0iElMdRc-",
        "colab_type": "text"
      },
      "source": [
        "#RANDOM FOREST"
      ]
    },
    {
      "cell_type": "code",
      "metadata": {
        "id": "3HHxEjTrc7n9",
        "colab_type": "code",
        "colab": {}
      },
      "source": [
        "rfc=RandomForestClassifier(100)"
      ],
      "execution_count": null,
      "outputs": []
    },
    {
      "cell_type": "code",
      "metadata": {
        "id": "rwg64BEPdYbT",
        "colab_type": "code",
        "colab": {
          "base_uri": "https://localhost:8080/",
          "height": 151
        },
        "outputId": "b4a8f75f-a251-4d56-d95d-13db98ee3aab"
      },
      "source": [
        "rfc.fit(X_train,y_train)"
      ],
      "execution_count": null,
      "outputs": [
        {
          "output_type": "execute_result",
          "data": {
            "text/plain": [
              "RandomForestClassifier(bootstrap=True, ccp_alpha=0.0, class_weight=None,\n",
              "                       criterion='gini', max_depth=None, max_features='auto',\n",
              "                       max_leaf_nodes=None, max_samples=None,\n",
              "                       min_impurity_decrease=0.0, min_impurity_split=None,\n",
              "                       min_samples_leaf=1, min_samples_split=2,\n",
              "                       min_weight_fraction_leaf=0.0, n_estimators=100,\n",
              "                       n_jobs=None, oob_score=False, random_state=None,\n",
              "                       verbose=0, warm_start=False)"
            ]
          },
          "metadata": {
            "tags": []
          },
          "execution_count": 85
        }
      ]
    },
    {
      "cell_type": "code",
      "metadata": {
        "id": "suBHufPbdbPP",
        "colab_type": "code",
        "colab": {}
      },
      "source": [
        "pred3=rfc.predict_proba(X_test)"
      ],
      "execution_count": null,
      "outputs": []
    },
    {
      "cell_type": "code",
      "metadata": {
        "id": "iJ5Q_pDHdfaB",
        "colab_type": "code",
        "colab": {
          "base_uri": "https://localhost:8080/",
          "height": 34
        },
        "outputId": "b793e851-b918-4340-cf45-058ae45e14fa"
      },
      "source": [
        "log_loss(y_test,pred3)"
      ],
      "execution_count": null,
      "outputs": [
        {
          "output_type": "execute_result",
          "data": {
            "text/plain": [
              "0.2799748713776273"
            ]
          },
          "metadata": {
            "tags": []
          },
          "execution_count": 91
        }
      ]
    },
    {
      "cell_type": "markdown",
      "metadata": {
        "id": "UYEzBHuyrHTf",
        "colab_type": "text"
      },
      "source": [
        "#ADABOOST"
      ]
    },
    {
      "cell_type": "code",
      "metadata": {
        "id": "ZTuAk0LXrG_q",
        "colab_type": "code",
        "colab": {}
      },
      "source": [
        "adb=AdaBoostClassifier()"
      ],
      "execution_count": null,
      "outputs": []
    },
    {
      "cell_type": "code",
      "metadata": {
        "id": "d3dmCuSFrG8B",
        "colab_type": "code",
        "colab": {
          "base_uri": "https://localhost:8080/",
          "height": 50
        },
        "outputId": "75f3a953-079f-4c6a-a050-dd73bbc1f1b1"
      },
      "source": [
        "adb.fit(X_train,y_train)"
      ],
      "execution_count": null,
      "outputs": [
        {
          "output_type": "execute_result",
          "data": {
            "text/plain": [
              "AdaBoostClassifier(algorithm='SAMME.R', base_estimator=None, learning_rate=1.0,\n",
              "                   n_estimators=50, random_state=None)"
            ]
          },
          "metadata": {
            "tags": []
          },
          "execution_count": 153
        }
      ]
    },
    {
      "cell_type": "code",
      "metadata": {
        "id": "_QkPVxZerG4_",
        "colab_type": "code",
        "colab": {}
      },
      "source": [
        "pred4=adb.predict_proba(X_test)"
      ],
      "execution_count": null,
      "outputs": []
    },
    {
      "cell_type": "code",
      "metadata": {
        "id": "lTHTzi0ArGzy",
        "colab_type": "code",
        "colab": {
          "base_uri": "https://localhost:8080/",
          "height": 34
        },
        "outputId": "517d4d43-8725-4d41-eaa2-62370056f6cd"
      },
      "source": [
        "log_loss(y_test,pred4)"
      ],
      "execution_count": null,
      "outputs": [
        {
          "output_type": "execute_result",
          "data": {
            "text/plain": [
              "0.4474926983500348"
            ]
          },
          "metadata": {
            "tags": []
          },
          "execution_count": 157
        }
      ]
    },
    {
      "cell_type": "markdown",
      "metadata": {
        "id": "sbwsp_rDs4xn",
        "colab_type": "text"
      },
      "source": [
        "#BAGGING"
      ]
    },
    {
      "cell_type": "code",
      "metadata": {
        "id": "C7a2jtPOrGuk",
        "colab_type": "code",
        "colab": {}
      },
      "source": [
        "bgc=BaggingClassifier()"
      ],
      "execution_count": null,
      "outputs": []
    },
    {
      "cell_type": "code",
      "metadata": {
        "id": "-EUjjyBTtH08",
        "colab_type": "code",
        "colab": {
          "base_uri": "https://localhost:8080/",
          "height": 84
        },
        "outputId": "470db740-ff9c-468d-e3f6-6bc1cb6761d8"
      },
      "source": [
        "bgc.fit(X_train,y_train)"
      ],
      "execution_count": null,
      "outputs": [
        {
          "output_type": "execute_result",
          "data": {
            "text/plain": [
              "BaggingClassifier(base_estimator=None, bootstrap=True, bootstrap_features=False,\n",
              "                  max_features=1.0, max_samples=1.0, n_estimators=10,\n",
              "                  n_jobs=None, oob_score=False, random_state=None, verbose=0,\n",
              "                  warm_start=False)"
            ]
          },
          "metadata": {
            "tags": []
          },
          "execution_count": 160
        }
      ]
    },
    {
      "cell_type": "code",
      "metadata": {
        "id": "z0eoGXVQtHx-",
        "colab_type": "code",
        "colab": {}
      },
      "source": [
        "pred5=bgc.predict_proba(X_test)"
      ],
      "execution_count": null,
      "outputs": []
    },
    {
      "cell_type": "code",
      "metadata": {
        "id": "inaa05vTtHut",
        "colab_type": "code",
        "colab": {
          "base_uri": "https://localhost:8080/",
          "height": 34
        },
        "outputId": "d5521f3a-7f81-46b3-ac05-624eac5fe142"
      },
      "source": [
        "log_loss(y_test,pred5)"
      ],
      "execution_count": null,
      "outputs": [
        {
          "output_type": "execute_result",
          "data": {
            "text/plain": [
              "0.6660626496781836"
            ]
          },
          "metadata": {
            "tags": []
          },
          "execution_count": 162
        }
      ]
    },
    {
      "cell_type": "markdown",
      "metadata": {
        "id": "g2Cj717rt4mY",
        "colab_type": "text"
      },
      "source": [
        "#XGBOOST"
      ]
    },
    {
      "cell_type": "code",
      "metadata": {
        "id": "_4em5C4PtHtB",
        "colab_type": "code",
        "colab": {}
      },
      "source": [
        "xgc=xg.XGBClassifier()"
      ],
      "execution_count": null,
      "outputs": []
    },
    {
      "cell_type": "code",
      "metadata": {
        "id": "oiGCOtDzuFx2",
        "colab_type": "code",
        "colab": {
          "base_uri": "https://localhost:8080/",
          "height": 134
        },
        "outputId": "6d329098-9151-4422-87ce-05e6c180b2e5"
      },
      "source": [
        "xgc.fit(X_train,y_train)"
      ],
      "execution_count": null,
      "outputs": [
        {
          "output_type": "execute_result",
          "data": {
            "text/plain": [
              "XGBClassifier(base_score=0.5, booster='gbtree', colsample_bylevel=1,\n",
              "              colsample_bynode=1, colsample_bytree=1, gamma=0,\n",
              "              learning_rate=0.1, max_delta_step=0, max_depth=3,\n",
              "              min_child_weight=1, missing=None, n_estimators=100, n_jobs=1,\n",
              "              nthread=None, objective='binary:logistic', random_state=0,\n",
              "              reg_alpha=0, reg_lambda=1, scale_pos_weight=1, seed=None,\n",
              "              silent=None, subsample=1, verbosity=1)"
            ]
          },
          "metadata": {
            "tags": []
          },
          "execution_count": 19
        }
      ]
    },
    {
      "cell_type": "code",
      "metadata": {
        "id": "oIbCVs8xuKZJ",
        "colab_type": "code",
        "colab": {}
      },
      "source": [
        "pred6=xgc.predict_proba(X_test)"
      ],
      "execution_count": null,
      "outputs": []
    },
    {
      "cell_type": "code",
      "metadata": {
        "id": "4yB4kH7AuSKI",
        "colab_type": "code",
        "colab": {
          "base_uri": "https://localhost:8080/",
          "height": 34
        },
        "outputId": "174f6594-575c-4d2b-da7c-b50295eafd24"
      },
      "source": [
        "log_loss(y_test,pred6)"
      ],
      "execution_count": null,
      "outputs": [
        {
          "output_type": "execute_result",
          "data": {
            "text/plain": [
              "0.26491380622039085"
            ]
          },
          "metadata": {
            "tags": []
          },
          "execution_count": 21
        }
      ]
    },
    {
      "cell_type": "markdown",
      "metadata": {
        "id": "2GQZHwvLjImP",
        "colab_type": "text"
      },
      "source": [
        "#ACTUAL DATA AND SUBMISSION"
      ]
    },
    {
      "cell_type": "code",
      "metadata": {
        "id": "8ndDrVnmjiDm",
        "colab_type": "code",
        "colab": {}
      },
      "source": [
        "X_train=X.copy()\n",
        "y_train=y.copy()"
      ],
      "execution_count": null,
      "outputs": []
    },
    {
      "cell_type": "code",
      "metadata": {
        "id": "wCt4J9c-ji-u",
        "colab_type": "code",
        "colab": {}
      },
      "source": [
        "X_test=test"
      ],
      "execution_count": null,
      "outputs": []
    },
    {
      "cell_type": "code",
      "metadata": {
        "id": "0C6pioWIj1YQ",
        "colab_type": "code",
        "colab": {}
      },
      "source": [
        "pred3=xgc.predict_proba(X_test)"
      ],
      "execution_count": null,
      "outputs": []
    },
    {
      "cell_type": "code",
      "metadata": {
        "id": "eQ3FGeksj4Tz",
        "colab_type": "code",
        "colab": {
          "base_uri": "https://localhost:8080/",
          "height": 34
        },
        "outputId": "57baea74-6581-4167-80c8-2fe4c9988195"
      },
      "source": [
        "len(pred3)"
      ],
      "execution_count": null,
      "outputs": [
        {
          "output_type": "execute_result",
          "data": {
            "text/plain": [
              "233"
            ]
          },
          "metadata": {
            "tags": []
          },
          "execution_count": 25
        }
      ]
    },
    {
      "cell_type": "code",
      "metadata": {
        "id": "jSXxOtN2e9DK",
        "colab_type": "code",
        "colab": {}
      },
      "source": [
        "arr_0=[]\n",
        "arr_1=[]\n",
        "for i in range(0,233):\n",
        "  arr_0.append(pred3[i][0])\n",
        "  arr_1.append(pred3[i][1])"
      ],
      "execution_count": null,
      "outputs": []
    },
    {
      "cell_type": "code",
      "metadata": {
        "id": "chS59LVdgnzU",
        "colab_type": "code",
        "colab": {}
      },
      "source": [
        "submission=pd.DataFrame({'0':arr_0,'1':arr_1})"
      ],
      "execution_count": null,
      "outputs": []
    },
    {
      "cell_type": "code",
      "metadata": {
        "id": "19hg0FdPfSc0",
        "colab_type": "code",
        "colab": {
          "base_uri": "https://localhost:8080/",
          "height": 402
        },
        "outputId": "eb4f226e-ce58-444a-9172-4b46d91e07eb"
      },
      "source": [
        "submission"
      ],
      "execution_count": null,
      "outputs": [
        {
          "output_type": "execute_result",
          "data": {
            "text/html": [
              "<div>\n",
              "<style scoped>\n",
              "    .dataframe tbody tr th:only-of-type {\n",
              "        vertical-align: middle;\n",
              "    }\n",
              "\n",
              "    .dataframe tbody tr th {\n",
              "        vertical-align: top;\n",
              "    }\n",
              "\n",
              "    .dataframe thead th {\n",
              "        text-align: right;\n",
              "    }\n",
              "</style>\n",
              "<table border=\"1\" class=\"dataframe\">\n",
              "  <thead>\n",
              "    <tr style=\"text-align: right;\">\n",
              "      <th></th>\n",
              "      <th>0</th>\n",
              "      <th>1</th>\n",
              "    </tr>\n",
              "  </thead>\n",
              "  <tbody>\n",
              "    <tr>\n",
              "      <th>0</th>\n",
              "      <td>0.003042</td>\n",
              "      <td>0.996958</td>\n",
              "    </tr>\n",
              "    <tr>\n",
              "      <th>1</th>\n",
              "      <td>0.064366</td>\n",
              "      <td>0.935634</td>\n",
              "    </tr>\n",
              "    <tr>\n",
              "      <th>2</th>\n",
              "      <td>0.903662</td>\n",
              "      <td>0.096338</td>\n",
              "    </tr>\n",
              "    <tr>\n",
              "      <th>3</th>\n",
              "      <td>0.001735</td>\n",
              "      <td>0.998265</td>\n",
              "    </tr>\n",
              "    <tr>\n",
              "      <th>4</th>\n",
              "      <td>0.259029</td>\n",
              "      <td>0.740971</td>\n",
              "    </tr>\n",
              "    <tr>\n",
              "      <th>...</th>\n",
              "      <td>...</td>\n",
              "      <td>...</td>\n",
              "    </tr>\n",
              "    <tr>\n",
              "      <th>228</th>\n",
              "      <td>0.944326</td>\n",
              "      <td>0.055674</td>\n",
              "    </tr>\n",
              "    <tr>\n",
              "      <th>229</th>\n",
              "      <td>0.253423</td>\n",
              "      <td>0.746577</td>\n",
              "    </tr>\n",
              "    <tr>\n",
              "      <th>230</th>\n",
              "      <td>0.438655</td>\n",
              "      <td>0.561345</td>\n",
              "    </tr>\n",
              "    <tr>\n",
              "      <th>231</th>\n",
              "      <td>0.001122</td>\n",
              "      <td>0.998878</td>\n",
              "    </tr>\n",
              "    <tr>\n",
              "      <th>232</th>\n",
              "      <td>0.762891</td>\n",
              "      <td>0.237109</td>\n",
              "    </tr>\n",
              "  </tbody>\n",
              "</table>\n",
              "<p>233 rows × 2 columns</p>\n",
              "</div>"
            ],
            "text/plain": [
              "            0         1\n",
              "0    0.003042  0.996958\n",
              "1    0.064366  0.935634\n",
              "2    0.903662  0.096338\n",
              "3    0.001735  0.998265\n",
              "4    0.259029  0.740971\n",
              "..        ...       ...\n",
              "228  0.944326  0.055674\n",
              "229  0.253423  0.746577\n",
              "230  0.438655  0.561345\n",
              "231  0.001122  0.998878\n",
              "232  0.762891  0.237109\n",
              "\n",
              "[233 rows x 2 columns]"
            ]
          },
          "metadata": {
            "tags": []
          },
          "execution_count": 28
        }
      ]
    },
    {
      "cell_type": "code",
      "metadata": {
        "id": "I7KfmexbfofX",
        "colab_type": "code",
        "colab": {}
      },
      "source": [
        "submission.to_excel('predict.xls',index=False)\n",
        "!cp predict.xls \"drive/My Drive/\""
      ],
      "execution_count": null,
      "outputs": []
    },
    {
      "cell_type": "code",
      "metadata": {
        "id": "19nFGWn2iKwe",
        "colab_type": "code",
        "colab": {
          "base_uri": "https://localhost:8080/",
          "height": 252
        },
        "outputId": "4bac15fb-a601-4c05-d9dd-046f90364161"
      },
      "source": [
        "test.info()"
      ],
      "execution_count": null,
      "outputs": [
        {
          "output_type": "stream",
          "text": [
            "<class 'pandas.core.frame.DataFrame'>\n",
            "RangeIndex: 233 entries, 0 to 232\n",
            "Data columns (total 7 columns):\n",
            " #   Column                Non-Null Count  Dtype  \n",
            "---  ------                --------------  -----  \n",
            " 0   City                  233 non-null    int64  \n",
            " 1   Location_Score        233 non-null    float64\n",
            " 2   Internal_Audit_Score  233 non-null    int64  \n",
            " 3   External_Audit_Score  233 non-null    int64  \n",
            " 4   Fin_Score             233 non-null    int64  \n",
            " 5   Loss_score            233 non-null    int64  \n",
            " 6   Past_Results          233 non-null    int64  \n",
            "dtypes: float64(1), int64(6)\n",
            "memory usage: 12.9 KB\n"
          ],
          "name": "stdout"
        }
      ]
    },
    {
      "cell_type": "code",
      "metadata": {
        "id": "6nGON8KDqHvF",
        "colab_type": "code",
        "colab": {}
      },
      "source": [
        ""
      ],
      "execution_count": null,
      "outputs": []
    }
  ]
}